{
  "nbformat": 4,
  "nbformat_minor": 0,
  "metadata": {
    "colab": {
      "provenance": []
    },
    "kernelspec": {
      "name": "python3",
      "display_name": "Python 3"
    },
    "language_info": {
      "name": "python"
    }
  },
  "cells": [
    {
      "cell_type": "markdown",
      "source": [
        "Tugas repo 1 data preprocessing menggunakan dataset json cnn-indonesia"
      ],
      "metadata": {
        "id": "v4LqoIhAR15G"
      }
    },
    {
      "cell_type": "markdown",
      "source": [
        "**INSTALL & IMPORT LIBRARY**"
      ],
      "metadata": {
        "id": "xPNnkdKSFEGD"
      }
    },
    {
      "cell_type": "code",
      "execution_count": 1,
      "metadata": {
        "id": "sw_tOH4KAINZ"
      },
      "outputs": [],
      "source": [
        "import string\n",
        "import pickle\n",
        "import numpy as np\n",
        "import pandas as pd\n",
        "from sklearn.feature_extraction.text import CountVectorizer\n",
        "from sklearn.naive_bayes import MultinomialNB\n",
        "from sklearn.pipeline import make_pipeline\n",
        "import random\n",
        "\n",
        "import json\n",
        "import pandas as pd\n",
        "from random import choice"
      ]
    },
    {
      "cell_type": "markdown",
      "source": [
        "**DATA ACQUISITION**\n",
        "\n",
        "\n",
        "\n"
      ],
      "metadata": {
        "id": "we9D-r1VdcRR"
      }
    },
    {
      "cell_type": "code",
      "source": [
        "#https://drive.google.com/file/d/1377OY9cJpLKc6eQK_Tu_QEduipTWhrTI/view?usp=drive_link\n",
        "!gdown 1377OY9cJpLKc6eQK_Tu_QEduipTWhrTI"
      ],
      "metadata": {
        "colab": {
          "base_uri": "https://localhost:8080/"
        },
        "id": "aVmSU4Z8dWgI",
        "outputId": "73026989-6f6e-462d-8fb2-fa85b597e709"
      },
      "execution_count": 2,
      "outputs": [
        {
          "output_type": "stream",
          "name": "stdout",
          "text": [
            "Downloading...\n",
            "From: https://drive.google.com/uc?id=1377OY9cJpLKc6eQK_Tu_QEduipTWhrTI\n",
            "To: /content/cnn-indonesia.json\n",
            "\r  0% 0.00/2.94k [00:00<?, ?B/s]\r100% 2.94k/2.94k [00:00<00:00, 11.3MB/s]\n"
          ]
        }
      ]
    },
    {
      "cell_type": "code",
      "source": [
        "#!unzip -q 'AIM0407D2203 Lab 2B Dataset.zip'\n",
        "!unzip -q 'dataset 2B.zip'"
      ],
      "metadata": {
        "colab": {
          "base_uri": "https://localhost:8080/"
        },
        "id": "xbcT9JmgdWm9",
        "outputId": "144770a3-5dd9-4087-edd7-ee8e87fee33c"
      },
      "execution_count": 3,
      "outputs": [
        {
          "output_type": "stream",
          "name": "stdout",
          "text": [
            "unzip:  cannot find or open dataset 2B.zip, dataset 2B.zip.zip or dataset 2B.zip.ZIP.\n"
          ]
        }
      ]
    },
    {
      "cell_type": "code",
      "source": [
        "!ls"
      ],
      "metadata": {
        "colab": {
          "base_uri": "https://localhost:8080/"
        },
        "id": "86wUi39wdWr2",
        "outputId": "a6ca263d-4490-4373-d437-80a802a4e7cd"
      },
      "execution_count": 4,
      "outputs": [
        {
          "output_type": "stream",
          "name": "stdout",
          "text": [
            "cnn-indonesia.json  sample_data\n"
          ]
        }
      ]
    },
    {
      "cell_type": "code",
      "source": [
        "with open(\"cnn-indonesia.json\") as data_file:\n",
        "  data = json.load(data_file)"
      ],
      "metadata": {
        "id": "KMhvTeC9dWwi"
      },
      "execution_count": 5,
      "outputs": []
    },
    {
      "cell_type": "code",
      "source": [
        "print(json.dumps(data, indent=2))"
      ],
      "metadata": {
        "colab": {
          "base_uri": "https://localhost:8080/"
        },
        "id": "ECGfw4hgebSN",
        "outputId": "28d97a97-0b89-4409-822d-e2a7f0f379be"
      },
      "execution_count": 6,
      "outputs": [
        {
          "output_type": "stream",
          "name": "stdout",
          "text": [
            "{\n",
            "  \"url\": \"https://www.cnnindonesia.com/internasional/20180303232319-113-280263/korut-ancam-ambil-langkah-tegas-jika-as-gelar-latihan-militer\",\n",
            "  \"date\": \"2018-03-04 01:09:00\",\n",
            "  \"title\": \"Korut Ancam Ambil Langkah Tegas Jika AS Gelar Latihan Militer\",\n",
            "  \"content\": \"Jakarta, CNN Indonesia -- Korea Utara mengancam akan mengambil langkah balasan kepada Amerika Serikat jika negara tersebut tetap menggelar latihan militer bersama Korea Selatan. Pyongyang juga menegaskan tidak akan memohon-mohon kepada Washington untuk menggelar suatu dialog. \\\"Jika Amerika Serikat tetap menggelar latihan militer sambil tetap menerapkan sanksi kepada DPRK, DPRK akan mengambil tindakan balasan kepada AS dengan cara kami sendiri dan mereka akan bertanggungjawab sepenuhnya atas konsekuensi-konsekuensi selanjutnya,\\\" demikian pernyataan resmi Kantor Berita Korut, KCNA. DPRK adalah nama resmi Korea Utara, yakni Democratic People's Republic of Korea atau Republik Rakyat Demokratik Korea. Amerika Serikat dijadwalkan menggelar latihan militer bersama Korea Selatan pada awal April. Informasi itu didapat Reuters berdasarkan pernyataan penasehat keamanan Korea Selatan kepada Kantor Berita Yonhap. Sebelumnya, pada 23 Februari lalu, Amerika Serikat menyatakan menerapkan paket sanksi terbesar untuk menekan Korut menghentikan program nuklir dan misilnya. Presiden AS Donald Trump bahkan mengingatkan tentang 'fase kedua' yang ia sebut\\u00a0'sangat tidak menguntungkan bagi dunia' jika langkah-langkah sebelumnya\\u00a0tidak berjalan efektif. Korut telah mengecam sanksi sepihak dari AS tersebut, namun menegaskan masih terbuka untuk menggelar dialog dengan AS. Hal itu dikatakan Pyongyang akhir bulan lalu saat sejumlah pejabat Korut mengunjungi Korsel dalam rangka perhelatan Olimpiade musim dingin. Di sisi lain, Gedung Putih menyatakan bahwa segala bentuk pembicaraan dengan Korut harus berujung pada penghentian program nuklir negara itu. Korut membalas pernyataan Gedung Putih itu pada Sabtu (3/3) dengan mengulangi pernyataan bahwa mereka menolak segala prasyarat untuk duduk bersama AS. Juru bicara Kementerian Luar Negeri Korut seperti dikutip KCNA, mengatakan Korut tidak memohon untuk berdialog dengan AS serta tak akan menghapus opsi militer mereka. \\\"Apakah perdamaian yang kami dan seluruh dunia inginkan tercapai di Semenanjung Korea, atau sebuah situasi yang tidak diinginkan berkembang dalam lingkaran setan berupa konfrontasi, sepenuhnya bergantung pada sikap AS,\\\" kata juru bicara Kemlu Korut. Di tengah memanasnya hubungan Korut dan AS, pihak Korsel berencana mengirim utusan khusus ke Korut sebagai respons terhadap undangan dari Pemimpin Tertinggi Korut Kim Jong Un. Hal itu disampaikan Presiden Korsel Moon Jae-in kepada Trump lewat sambungan telepon pada Kamis lalu. Membaiknya\\u00a0hubungan dua Korea tak lepas dari penyelenggaraan Olimpiade musim dingin di Pyeongchang, Korsel, bulan lalu yang turut dihadiri oleh Korut. (wis)\"\n",
            "}\n"
          ]
        }
      ]
    },
    {
      "cell_type": "code",
      "source": [
        "data"
      ],
      "metadata": {
        "colab": {
          "base_uri": "https://localhost:8080/"
        },
        "id": "Ml2yX6UOvyZc",
        "outputId": "cb8e0dae-25c6-452b-87d5-b12cd53e6f5c"
      },
      "execution_count": 7,
      "outputs": [
        {
          "output_type": "execute_result",
          "data": {
            "text/plain": [
              "{'url': 'https://www.cnnindonesia.com/internasional/20180303232319-113-280263/korut-ancam-ambil-langkah-tegas-jika-as-gelar-latihan-militer',\n",
              " 'date': '2018-03-04 01:09:00',\n",
              " 'title': 'Korut Ancam Ambil Langkah Tegas Jika AS Gelar Latihan Militer',\n",
              " 'content': 'Jakarta, CNN Indonesia -- Korea Utara mengancam akan mengambil langkah balasan kepada Amerika Serikat jika negara tersebut tetap menggelar latihan militer bersama Korea Selatan. Pyongyang juga menegaskan tidak akan memohon-mohon kepada Washington untuk menggelar suatu dialog. \"Jika Amerika Serikat tetap menggelar latihan militer sambil tetap menerapkan sanksi kepada DPRK, DPRK akan mengambil tindakan balasan kepada AS dengan cara kami sendiri dan mereka akan bertanggungjawab sepenuhnya atas konsekuensi-konsekuensi selanjutnya,\" demikian pernyataan resmi Kantor Berita Korut, KCNA. DPRK adalah nama resmi Korea Utara, yakni Democratic People\\'s Republic of Korea atau Republik Rakyat Demokratik Korea. Amerika Serikat dijadwalkan menggelar latihan militer bersama Korea Selatan pada awal April. Informasi itu didapat Reuters berdasarkan pernyataan penasehat keamanan Korea Selatan kepada Kantor Berita Yonhap. Sebelumnya, pada 23 Februari lalu, Amerika Serikat menyatakan menerapkan paket sanksi terbesar untuk menekan Korut menghentikan program nuklir dan misilnya. Presiden AS Donald Trump bahkan mengingatkan tentang \\'fase kedua\\' yang ia sebut\\xa0\\'sangat tidak menguntungkan bagi dunia\\' jika langkah-langkah sebelumnya\\xa0tidak berjalan efektif. Korut telah mengecam sanksi sepihak dari AS tersebut, namun menegaskan masih terbuka untuk menggelar dialog dengan AS. Hal itu dikatakan Pyongyang akhir bulan lalu saat sejumlah pejabat Korut mengunjungi Korsel dalam rangka perhelatan Olimpiade musim dingin. Di sisi lain, Gedung Putih menyatakan bahwa segala bentuk pembicaraan dengan Korut harus berujung pada penghentian program nuklir negara itu. Korut membalas pernyataan Gedung Putih itu pada Sabtu (3/3) dengan mengulangi pernyataan bahwa mereka menolak segala prasyarat untuk duduk bersama AS. Juru bicara Kementerian Luar Negeri Korut seperti dikutip KCNA, mengatakan Korut tidak memohon untuk berdialog dengan AS serta tak akan menghapus opsi militer mereka. \"Apakah perdamaian yang kami dan seluruh dunia inginkan tercapai di Semenanjung Korea, atau sebuah situasi yang tidak diinginkan berkembang dalam lingkaran setan berupa konfrontasi, sepenuhnya bergantung pada sikap AS,\" kata juru bicara Kemlu Korut. Di tengah memanasnya hubungan Korut dan AS, pihak Korsel berencana mengirim utusan khusus ke Korut sebagai respons terhadap undangan dari Pemimpin Tertinggi Korut Kim Jong Un. Hal itu disampaikan Presiden Korsel Moon Jae-in kepada Trump lewat sambungan telepon pada Kamis lalu. Membaiknya\\xa0hubungan dua Korea tak lepas dari penyelenggaraan Olimpiade musim dingin di Pyeongchang, Korsel, bulan lalu yang turut dihadiri oleh Korut. (wis)'}"
            ]
          },
          "metadata": {},
          "execution_count": 7
        }
      ]
    },
    {
      "cell_type": "code",
      "source": [],
      "metadata": {
        "id": "AIbm0Nq-GQQu"
      },
      "execution_count": 7,
      "outputs": []
    },
    {
      "cell_type": "markdown",
      "source": [
        "**TEXT PREPROCESSING**"
      ],
      "metadata": {
        "id": "BRcBGpWYe9VZ"
      }
    },
    {
      "cell_type": "markdown",
      "source": [
        "case folding"
      ],
      "metadata": {
        "id": "kwce_I6VykdD"
      }
    },
    {
      "cell_type": "code",
      "source": [
        "import re\n",
        "\n",
        "def casefolding(text):\n",
        "\n",
        "  text = hasil.encode('ascii', 'replace').decode('ascii') #\n",
        "  text = text.replace('\\\\t',\" \").replace('\\\\n',\" \").replace('\\\\u',\" \").replace('\\\\',\"\")  #\n",
        "  text = text.lower()                               # Mengubah teks menjadi lower case\n",
        "  text = re.sub(r'https?://\\S+|www\\.\\S+', '', text) # Menghapus URL\n",
        "  text = re.sub(r'[-+]?[0-9]+', '', text)           # Menghapus angka\n",
        "  text = re.sub(r'[^\\w\\s]','', text)                # Menghapus karakter tanda baca\n",
        "  text = text.strip()                               # Menghapus whitespaces\n",
        "  return text\n",
        "\n",
        "#melakukan tahap case folding\n",
        "casefolding = raw_sample['content'].lower()\n",
        "\n",
        "#menampilkan hasil\n",
        "print(casefolding)"
      ],
      "metadata": {
        "id": "FmfGiozve61v",
        "colab": {
          "base_uri": "https://localhost:8080/"
        },
        "outputId": "64288277-ee88-4a98-ef34-33b64a322424"
      },
      "execution_count": 33,
      "outputs": [
        {
          "output_type": "stream",
          "name": "stdout",
          "text": [
            "jakarta, cnn indonesia -- korea utara mengancam akan mengambil langkah balasan kepada amerika serikat jika negara tersebut tetap menggelar latihan militer bersama korea selatan. pyongyang juga menegaskan tidak akan memohon-mohon kepada washington untuk menggelar suatu dialog. \"jika amerika serikat tetap menggelar latihan militer sambil tetap menerapkan sanksi kepada dprk, dprk akan mengambil tindakan balasan kepada as dengan cara kami sendiri dan mereka akan bertanggungjawab sepenuhnya atas konsekuensi-konsekuensi selanjutnya,\" demikian pernyataan resmi kantor berita korut, kcna. dprk adalah nama resmi korea utara, yakni democratic people's republic of korea atau republik rakyat demokratik korea. amerika serikat dijadwalkan menggelar latihan militer bersama korea selatan pada awal april. informasi itu didapat reuters berdasarkan pernyataan penasehat keamanan korea selatan kepada kantor berita yonhap. sebelumnya, pada 23 februari lalu, amerika serikat menyatakan menerapkan paket sanksi terbesar untuk menekan korut menghentikan program nuklir dan misilnya. presiden as donald trump bahkan mengingatkan tentang 'fase kedua' yang ia sebut 'sangat tidak menguntungkan bagi dunia' jika langkah-langkah sebelumnya tidak berjalan efektif. korut telah mengecam sanksi sepihak dari as tersebut, namun menegaskan masih terbuka untuk menggelar dialog dengan as. hal itu dikatakan pyongyang akhir bulan lalu saat sejumlah pejabat korut mengunjungi korsel dalam rangka perhelatan olimpiade musim dingin. di sisi lain, gedung putih menyatakan bahwa segala bentuk pembicaraan dengan korut harus berujung pada penghentian program nuklir negara itu. korut membalas pernyataan gedung putih itu pada sabtu (3/3) dengan mengulangi pernyataan bahwa mereka menolak segala prasyarat untuk duduk bersama as. juru bicara kementerian luar negeri korut seperti dikutip kcna, mengatakan korut tidak memohon untuk berdialog dengan as serta tak akan menghapus opsi militer mereka. \"apakah perdamaian yang kami dan seluruh dunia inginkan tercapai di semenanjung korea, atau sebuah situasi yang tidak diinginkan berkembang dalam lingkaran setan berupa konfrontasi, sepenuhnya bergantung pada sikap as,\" kata juru bicara kemlu korut. di tengah memanasnya hubungan korut dan as, pihak korsel berencana mengirim utusan khusus ke korut sebagai respons terhadap undangan dari pemimpin tertinggi korut kim jong un. hal itu disampaikan presiden korsel moon jae-in kepada trump lewat sambungan telepon pada kamis lalu. membaiknya hubungan dua korea tak lepas dari penyelenggaraan olimpiade musim dingin di pyeongchang, korsel, bulan lalu yang turut dihadiri oleh korut. (wis)\n"
          ]
        }
      ]
    },
    {
      "cell_type": "code",
      "source": [
        "def remove_single_char(hasil):\n",
        "    return re.sub(r\"\\b[a-zA-Z]\\b\", \"\", hasil)\n",
        "\n",
        "#melakukan penghapusan pada char yg single\n",
        "remove_single_char = raw_sample['content']\n",
        "\n",
        "#menampilkan hasil\n",
        "print(remove_single_char)"
      ],
      "metadata": {
        "id": "0yHHKP4-VEaf",
        "colab": {
          "base_uri": "https://localhost:8080/"
        },
        "outputId": "7201be7e-23a5-4cfa-e822-d2a9f9f037a4"
      },
      "execution_count": 34,
      "outputs": [
        {
          "output_type": "stream",
          "name": "stdout",
          "text": [
            "Jakarta, CNN Indonesia -- Korea Utara mengancam akan mengambil langkah balasan kepada Amerika Serikat jika negara tersebut tetap menggelar latihan militer bersama Korea Selatan. Pyongyang juga menegaskan tidak akan memohon-mohon kepada Washington untuk menggelar suatu dialog. \"Jika Amerika Serikat tetap menggelar latihan militer sambil tetap menerapkan sanksi kepada DPRK, DPRK akan mengambil tindakan balasan kepada AS dengan cara kami sendiri dan mereka akan bertanggungjawab sepenuhnya atas konsekuensi-konsekuensi selanjutnya,\" demikian pernyataan resmi Kantor Berita Korut, KCNA. DPRK adalah nama resmi Korea Utara, yakni Democratic People's Republic of Korea atau Republik Rakyat Demokratik Korea. Amerika Serikat dijadwalkan menggelar latihan militer bersama Korea Selatan pada awal April. Informasi itu didapat Reuters berdasarkan pernyataan penasehat keamanan Korea Selatan kepada Kantor Berita Yonhap. Sebelumnya, pada 23 Februari lalu, Amerika Serikat menyatakan menerapkan paket sanksi terbesar untuk menekan Korut menghentikan program nuklir dan misilnya. Presiden AS Donald Trump bahkan mengingatkan tentang 'fase kedua' yang ia sebut 'sangat tidak menguntungkan bagi dunia' jika langkah-langkah sebelumnya tidak berjalan efektif. Korut telah mengecam sanksi sepihak dari AS tersebut, namun menegaskan masih terbuka untuk menggelar dialog dengan AS. Hal itu dikatakan Pyongyang akhir bulan lalu saat sejumlah pejabat Korut mengunjungi Korsel dalam rangka perhelatan Olimpiade musim dingin. Di sisi lain, Gedung Putih menyatakan bahwa segala bentuk pembicaraan dengan Korut harus berujung pada penghentian program nuklir negara itu. Korut membalas pernyataan Gedung Putih itu pada Sabtu (3/3) dengan mengulangi pernyataan bahwa mereka menolak segala prasyarat untuk duduk bersama AS. Juru bicara Kementerian Luar Negeri Korut seperti dikutip KCNA, mengatakan Korut tidak memohon untuk berdialog dengan AS serta tak akan menghapus opsi militer mereka. \"Apakah perdamaian yang kami dan seluruh dunia inginkan tercapai di Semenanjung Korea, atau sebuah situasi yang tidak diinginkan berkembang dalam lingkaran setan berupa konfrontasi, sepenuhnya bergantung pada sikap AS,\" kata juru bicara Kemlu Korut. Di tengah memanasnya hubungan Korut dan AS, pihak Korsel berencana mengirim utusan khusus ke Korut sebagai respons terhadap undangan dari Pemimpin Tertinggi Korut Kim Jong Un. Hal itu disampaikan Presiden Korsel Moon Jae-in kepada Trump lewat sambungan telepon pada Kamis lalu. Membaiknya hubungan dua Korea tak lepas dari penyelenggaraan Olimpiade musim dingin di Pyeongchang, Korsel, bulan lalu yang turut dihadiri oleh Korut. (wis)\n"
          ]
        }
      ]
    },
    {
      "cell_type": "code",
      "source": [
        "def remove_excessive_dot(hasil):\n",
        "    return hasil.replace('...',\" \")\n",
        "\n",
        "# Melakukan remove_excessive_dot pada konten (content) dataset\n",
        "remove_excessive_dot = raw_sample['content'].lower()\n",
        "\n",
        "# Menampilkan konten setelah remove_excessive_dot\n",
        "print(remove_excessive_dot)\n"
      ],
      "metadata": {
        "id": "wbH3HdrkVLhO",
        "colab": {
          "base_uri": "https://localhost:8080/"
        },
        "outputId": "84bc6ced-3bfe-4e21-d0d3-78b98421e196"
      },
      "execution_count": 31,
      "outputs": [
        {
          "output_type": "stream",
          "name": "stdout",
          "text": [
            "jakarta, cnn indonesia -- korea utara mengancam akan mengambil langkah balasan kepada amerika serikat jika negara tersebut tetap menggelar latihan militer bersama korea selatan. pyongyang juga menegaskan tidak akan memohon-mohon kepada washington untuk menggelar suatu dialog. \"jika amerika serikat tetap menggelar latihan militer sambil tetap menerapkan sanksi kepada dprk, dprk akan mengambil tindakan balasan kepada as dengan cara kami sendiri dan mereka akan bertanggungjawab sepenuhnya atas konsekuensi-konsekuensi selanjutnya,\" demikian pernyataan resmi kantor berita korut, kcna. dprk adalah nama resmi korea utara, yakni democratic people's republic of korea atau republik rakyat demokratik korea. amerika serikat dijadwalkan menggelar latihan militer bersama korea selatan pada awal april. informasi itu didapat reuters berdasarkan pernyataan penasehat keamanan korea selatan kepada kantor berita yonhap. sebelumnya, pada 23 februari lalu, amerika serikat menyatakan menerapkan paket sanksi terbesar untuk menekan korut menghentikan program nuklir dan misilnya. presiden as donald trump bahkan mengingatkan tentang 'fase kedua' yang ia sebut 'sangat tidak menguntungkan bagi dunia' jika langkah-langkah sebelumnya tidak berjalan efektif. korut telah mengecam sanksi sepihak dari as tersebut, namun menegaskan masih terbuka untuk menggelar dialog dengan as. hal itu dikatakan pyongyang akhir bulan lalu saat sejumlah pejabat korut mengunjungi korsel dalam rangka perhelatan olimpiade musim dingin. di sisi lain, gedung putih menyatakan bahwa segala bentuk pembicaraan dengan korut harus berujung pada penghentian program nuklir negara itu. korut membalas pernyataan gedung putih itu pada sabtu (3/3) dengan mengulangi pernyataan bahwa mereka menolak segala prasyarat untuk duduk bersama as. juru bicara kementerian luar negeri korut seperti dikutip kcna, mengatakan korut tidak memohon untuk berdialog dengan as serta tak akan menghapus opsi militer mereka. \"apakah perdamaian yang kami dan seluruh dunia inginkan tercapai di semenanjung korea, atau sebuah situasi yang tidak diinginkan berkembang dalam lingkaran setan berupa konfrontasi, sepenuhnya bergantung pada sikap as,\" kata juru bicara kemlu korut. di tengah memanasnya hubungan korut dan as, pihak korsel berencana mengirim utusan khusus ke korut sebagai respons terhadap undangan dari pemimpin tertinggi korut kim jong un. hal itu disampaikan presiden korsel moon jae-in kepada trump lewat sambungan telepon pada kamis lalu. membaiknya hubungan dua korea tak lepas dari penyelenggaraan olimpiade musim dingin di pyeongchang, korsel, bulan lalu yang turut dihadiri oleh korut. (wis)\n"
          ]
        }
      ]
    },
    {
      "cell_type": "code",
      "source": [
        "def remove_punctuation(hasil):\n",
        "    return hasil.translate(str.maketrans(\"\",\"\",string.punctuation))\n",
        "\n",
        "# Melakukan remove punctuation pada konten (content) dataset\n",
        "remove_punctuation = raw_sample['content'].lower()\n",
        "\n",
        "# Menampilkan konten setelah remove punctuation\n",
        "print(remove_punctuation)"
      ],
      "metadata": {
        "id": "m2Xm4bUbVwI4",
        "colab": {
          "base_uri": "https://localhost:8080/"
        },
        "outputId": "ab624650-c3fd-4792-d9eb-7aa87cb5be10"
      },
      "execution_count": 30,
      "outputs": [
        {
          "output_type": "stream",
          "name": "stdout",
          "text": [
            "jakarta, cnn indonesia -- korea utara mengancam akan mengambil langkah balasan kepada amerika serikat jika negara tersebut tetap menggelar latihan militer bersama korea selatan. pyongyang juga menegaskan tidak akan memohon-mohon kepada washington untuk menggelar suatu dialog. \"jika amerika serikat tetap menggelar latihan militer sambil tetap menerapkan sanksi kepada dprk, dprk akan mengambil tindakan balasan kepada as dengan cara kami sendiri dan mereka akan bertanggungjawab sepenuhnya atas konsekuensi-konsekuensi selanjutnya,\" demikian pernyataan resmi kantor berita korut, kcna. dprk adalah nama resmi korea utara, yakni democratic people's republic of korea atau republik rakyat demokratik korea. amerika serikat dijadwalkan menggelar latihan militer bersama korea selatan pada awal april. informasi itu didapat reuters berdasarkan pernyataan penasehat keamanan korea selatan kepada kantor berita yonhap. sebelumnya, pada 23 februari lalu, amerika serikat menyatakan menerapkan paket sanksi terbesar untuk menekan korut menghentikan program nuklir dan misilnya. presiden as donald trump bahkan mengingatkan tentang 'fase kedua' yang ia sebut 'sangat tidak menguntungkan bagi dunia' jika langkah-langkah sebelumnya tidak berjalan efektif. korut telah mengecam sanksi sepihak dari as tersebut, namun menegaskan masih terbuka untuk menggelar dialog dengan as. hal itu dikatakan pyongyang akhir bulan lalu saat sejumlah pejabat korut mengunjungi korsel dalam rangka perhelatan olimpiade musim dingin. di sisi lain, gedung putih menyatakan bahwa segala bentuk pembicaraan dengan korut harus berujung pada penghentian program nuklir negara itu. korut membalas pernyataan gedung putih itu pada sabtu (3/3) dengan mengulangi pernyataan bahwa mereka menolak segala prasyarat untuk duduk bersama as. juru bicara kementerian luar negeri korut seperti dikutip kcna, mengatakan korut tidak memohon untuk berdialog dengan as serta tak akan menghapus opsi militer mereka. \"apakah perdamaian yang kami dan seluruh dunia inginkan tercapai di semenanjung korea, atau sebuah situasi yang tidak diinginkan berkembang dalam lingkaran setan berupa konfrontasi, sepenuhnya bergantung pada sikap as,\" kata juru bicara kemlu korut. di tengah memanasnya hubungan korut dan as, pihak korsel berencana mengirim utusan khusus ke korut sebagai respons terhadap undangan dari pemimpin tertinggi korut kim jong un. hal itu disampaikan presiden korsel moon jae-in kepada trump lewat sambungan telepon pada kamis lalu. membaiknya hubungan dua korea tak lepas dari penyelenggaraan olimpiade musim dingin di pyeongchang, korsel, bulan lalu yang turut dihadiri oleh korut. (wis)\n"
          ]
        }
      ]
    },
    {
      "cell_type": "code",
      "source": [],
      "metadata": {
        "id": "ZAahXpm9V0uL"
      },
      "execution_count": 11,
      "outputs": []
    },
    {
      "cell_type": "code",
      "source": [
        "# dataset\n",
        "raw_sample = {\n",
        "    'date': '2018-03-04 01:09:00',\n",
        "    'title': 'Korut Ancam Ambil Langkah Tegas Jika AS Gelar Latihan Militer',\n",
        "    'content': 'Jakarta, CNN Indonesia -- Korea Utara mengancam akan mengambil langkah balasan kepada Amerika Serikat jika negara tersebut tetap menggelar latihan militer bersama Korea Selatan. Pyongyang juga menegaskan tidak akan memohon-mohon kepada Washington untuk menggelar suatu dialog. \"Jika Amerika Serikat tetap menggelar latihan militer sambil tetap menerapkan sanksi kepada DPRK, DPRK akan mengambil tindakan balasan kepada AS dengan cara kami sendiri dan mereka akan bertanggungjawab sepenuhnya atas konsekuensi-konsekuensi selanjutnya,\" demikian pernyataan resmi Kantor Berita Korut, KCNA. DPRK adalah nama resmi Korea Utara, yakni Democratic People\\'s Republic of Korea atau Republik Rakyat Demokratik Korea. Amerika Serikat dijadwalkan menggelar latihan militer bersama Korea Selatan pada awal April. Informasi itu didapat Reuters berdasarkan pernyataan penasehat keamanan Korea Selatan kepada Kantor Berita Yonhap. Sebelumnya, pada 23 Februari lalu, Amerika Serikat menyatakan menerapkan paket sanksi terbesar untuk menekan Korut menghentikan program nuklir dan misilnya. Presiden AS Donald Trump bahkan mengingatkan tentang \\'fase kedua\\' yang ia sebut\\xa0\\'sangat tidak menguntungkan bagi dunia\\' jika langkah-langkah sebelumnya\\xa0tidak berjalan efektif. Korut telah mengecam sanksi sepihak dari AS tersebut, namun menegaskan masih terbuka untuk menggelar dialog dengan AS. Hal itu dikatakan Pyongyang akhir bulan lalu saat sejumlah pejabat Korut mengunjungi Korsel dalam rangka perhelatan Olimpiade musim dingin. Di sisi lain, Gedung Putih menyatakan bahwa segala bentuk pembicaraan dengan Korut harus berujung pada penghentian program nuklir negara itu. Korut membalas pernyataan Gedung Putih itu pada Sabtu (3/3) dengan mengulangi pernyataan bahwa mereka menolak segala prasyarat untuk duduk bersama AS. Juru bicara Kementerian Luar Negeri Korut seperti dikutip KCNA, mengatakan Korut tidak memohon untuk berdialog dengan AS serta tak akan menghapus opsi militer mereka. \"Apakah perdamaian yang kami dan seluruh dunia inginkan tercapai di Semenanjung Korea, atau sebuah situasi yang tidak diinginkan berkembang dalam lingkaran setan berupa konfrontasi, sepenuhnya bergantung pada sikap AS,\" kata juru bicara Kemlu Korut. Di tengah memanasnya hubungan Korut dan AS, pihak Korsel berencana mengirim utusan khusus ke Korut sebagai respons terhadap undangan dari Pemimpin Tertinggi Korut Kim Jong Un. Hal itu disampaikan Presiden Korsel Moon Jae-in kepada Trump lewat sambungan telepon pada Kamis lalu. Membaiknya\\xa0hubungan dua Korea tak lepas dari penyelenggaraan Olimpiade musim dingin di Pyeongchang, Korsel, bulan lalu yang turut dihadiri oleh Korut. (wis)'\n",
        "}\n",
        "\n",
        "# Menggunakan dataset\n",
        "print(raw_sample['date'])\n",
        "print(raw_sample['title'])\n",
        "print(raw_sample['content'])\n",
        "\n",
        "\n",
        "\n",
        "print('Raw data\\t: ', raw_sample)\n",
        "\n",
        "\n"
      ],
      "metadata": {
        "colab": {
          "base_uri": "https://localhost:8080/"
        },
        "id": "wvH5hcaEx79X",
        "outputId": "f42982ff-2fcd-445c-a935-6d850967759e"
      },
      "execution_count": 12,
      "outputs": [
        {
          "output_type": "stream",
          "name": "stdout",
          "text": [
            "2018-03-04 01:09:00\n",
            "Korut Ancam Ambil Langkah Tegas Jika AS Gelar Latihan Militer\n",
            "Jakarta, CNN Indonesia -- Korea Utara mengancam akan mengambil langkah balasan kepada Amerika Serikat jika negara tersebut tetap menggelar latihan militer bersama Korea Selatan. Pyongyang juga menegaskan tidak akan memohon-mohon kepada Washington untuk menggelar suatu dialog. \"Jika Amerika Serikat tetap menggelar latihan militer sambil tetap menerapkan sanksi kepada DPRK, DPRK akan mengambil tindakan balasan kepada AS dengan cara kami sendiri dan mereka akan bertanggungjawab sepenuhnya atas konsekuensi-konsekuensi selanjutnya,\" demikian pernyataan resmi Kantor Berita Korut, KCNA. DPRK adalah nama resmi Korea Utara, yakni Democratic People's Republic of Korea atau Republik Rakyat Demokratik Korea. Amerika Serikat dijadwalkan menggelar latihan militer bersama Korea Selatan pada awal April. Informasi itu didapat Reuters berdasarkan pernyataan penasehat keamanan Korea Selatan kepada Kantor Berita Yonhap. Sebelumnya, pada 23 Februari lalu, Amerika Serikat menyatakan menerapkan paket sanksi terbesar untuk menekan Korut menghentikan program nuklir dan misilnya. Presiden AS Donald Trump bahkan mengingatkan tentang 'fase kedua' yang ia sebut 'sangat tidak menguntungkan bagi dunia' jika langkah-langkah sebelumnya tidak berjalan efektif. Korut telah mengecam sanksi sepihak dari AS tersebut, namun menegaskan masih terbuka untuk menggelar dialog dengan AS. Hal itu dikatakan Pyongyang akhir bulan lalu saat sejumlah pejabat Korut mengunjungi Korsel dalam rangka perhelatan Olimpiade musim dingin. Di sisi lain, Gedung Putih menyatakan bahwa segala bentuk pembicaraan dengan Korut harus berujung pada penghentian program nuklir negara itu. Korut membalas pernyataan Gedung Putih itu pada Sabtu (3/3) dengan mengulangi pernyataan bahwa mereka menolak segala prasyarat untuk duduk bersama AS. Juru bicara Kementerian Luar Negeri Korut seperti dikutip KCNA, mengatakan Korut tidak memohon untuk berdialog dengan AS serta tak akan menghapus opsi militer mereka. \"Apakah perdamaian yang kami dan seluruh dunia inginkan tercapai di Semenanjung Korea, atau sebuah situasi yang tidak diinginkan berkembang dalam lingkaran setan berupa konfrontasi, sepenuhnya bergantung pada sikap AS,\" kata juru bicara Kemlu Korut. Di tengah memanasnya hubungan Korut dan AS, pihak Korsel berencana mengirim utusan khusus ke Korut sebagai respons terhadap undangan dari Pemimpin Tertinggi Korut Kim Jong Un. Hal itu disampaikan Presiden Korsel Moon Jae-in kepada Trump lewat sambungan telepon pada Kamis lalu. Membaiknya hubungan dua Korea tak lepas dari penyelenggaraan Olimpiade musim dingin di Pyeongchang, Korsel, bulan lalu yang turut dihadiri oleh Korut. (wis)\n",
            "Raw data\t:  {'date': '2018-03-04 01:09:00', 'title': 'Korut Ancam Ambil Langkah Tegas Jika AS Gelar Latihan Militer', 'content': 'Jakarta, CNN Indonesia -- Korea Utara mengancam akan mengambil langkah balasan kepada Amerika Serikat jika negara tersebut tetap menggelar latihan militer bersama Korea Selatan. Pyongyang juga menegaskan tidak akan memohon-mohon kepada Washington untuk menggelar suatu dialog. \"Jika Amerika Serikat tetap menggelar latihan militer sambil tetap menerapkan sanksi kepada DPRK, DPRK akan mengambil tindakan balasan kepada AS dengan cara kami sendiri dan mereka akan bertanggungjawab sepenuhnya atas konsekuensi-konsekuensi selanjutnya,\" demikian pernyataan resmi Kantor Berita Korut, KCNA. DPRK adalah nama resmi Korea Utara, yakni Democratic People\\'s Republic of Korea atau Republik Rakyat Demokratik Korea. Amerika Serikat dijadwalkan menggelar latihan militer bersama Korea Selatan pada awal April. Informasi itu didapat Reuters berdasarkan pernyataan penasehat keamanan Korea Selatan kepada Kantor Berita Yonhap. Sebelumnya, pada 23 Februari lalu, Amerika Serikat menyatakan menerapkan paket sanksi terbesar untuk menekan Korut menghentikan program nuklir dan misilnya. Presiden AS Donald Trump bahkan mengingatkan tentang \\'fase kedua\\' yang ia sebut\\xa0\\'sangat tidak menguntungkan bagi dunia\\' jika langkah-langkah sebelumnya\\xa0tidak berjalan efektif. Korut telah mengecam sanksi sepihak dari AS tersebut, namun menegaskan masih terbuka untuk menggelar dialog dengan AS. Hal itu dikatakan Pyongyang akhir bulan lalu saat sejumlah pejabat Korut mengunjungi Korsel dalam rangka perhelatan Olimpiade musim dingin. Di sisi lain, Gedung Putih menyatakan bahwa segala bentuk pembicaraan dengan Korut harus berujung pada penghentian program nuklir negara itu. Korut membalas pernyataan Gedung Putih itu pada Sabtu (3/3) dengan mengulangi pernyataan bahwa mereka menolak segala prasyarat untuk duduk bersama AS. Juru bicara Kementerian Luar Negeri Korut seperti dikutip KCNA, mengatakan Korut tidak memohon untuk berdialog dengan AS serta tak akan menghapus opsi militer mereka. \"Apakah perdamaian yang kami dan seluruh dunia inginkan tercapai di Semenanjung Korea, atau sebuah situasi yang tidak diinginkan berkembang dalam lingkaran setan berupa konfrontasi, sepenuhnya bergantung pada sikap AS,\" kata juru bicara Kemlu Korut. Di tengah memanasnya hubungan Korut dan AS, pihak Korsel berencana mengirim utusan khusus ke Korut sebagai respons terhadap undangan dari Pemimpin Tertinggi Korut Kim Jong Un. Hal itu disampaikan Presiden Korsel Moon Jae-in kepada Trump lewat sambungan telepon pada Kamis lalu. Membaiknya\\xa0hubungan dua Korea tak lepas dari penyelenggaraan Olimpiade musim dingin di Pyeongchang, Korsel, bulan lalu yang turut dihadiri oleh Korut. (wis)'}\n"
          ]
        }
      ]
    },
    {
      "cell_type": "code",
      "source": [
        "# dataset\n",
        "raw_sample = {\n",
        "    'date': '2018-03-04 01:09:00',\n",
        "    'title': 'Korut Ancam Ambil Langkah Tegas Jika AS Gelar Latihan Militer',\n",
        "    'content': 'Jakarta, CNN Indonesia -- Korea Utara mengancam akan mengambil langkah balasan kepada Amerika Serikat jika negara tersebut tetap menggelar latihan militer bersama Korea Selatan. Pyongyang juga menegaskan tidak akan memohon-mohon kepada Washington untuk menggelar suatu dialog. \"Jika Amerika Serikat tetap menggelar latihan militer sambil tetap menerapkan sanksi kepada DPRK, DPRK akan mengambil tindakan balasan kepada AS dengan cara kami sendiri dan mereka akan bertanggungjawab sepenuhnya atas konsekuensi-konsekuensi selanjutnya,\" demikian pernyataan resmi Kantor Berita Korut, KCNA. DPRK adalah nama resmi Korea Utara, yakni Democratic People\\'s Republic of Korea atau Republik Rakyat Demokratik Korea. Amerika Serikat dijadwalkan menggelar latihan militer bersama Korea Selatan pada awal April. Informasi itu didapat Reuters berdasarkan pernyataan penasehat keamanan Korea Selatan kepada Kantor Berita Yonhap. Sebelumnya, pada 23 Februari lalu, Amerika Serikat menyatakan menerapkan paket sanksi terbesar untuk menekan Korut menghentikan program nuklir dan misilnya. Presiden AS Donald Trump bahkan mengingatkan tentang \\'fase kedua\\' yang ia sebut\\xa0\\'sangat tidak menguntungkan bagi dunia\\' jika langkah-langkah sebelumnya\\xa0tidak berjalan efektif. Korut telah mengecam sanksi sepihak dari AS tersebut, namun menegaskan masih terbuka untuk menggelar dialog dengan AS. Hal itu dikatakan Pyongyang akhir bulan lalu saat sejumlah pejabat Korut mengunjungi Korsel dalam rangka perhelatan Olimpiade musim dingin. Di sisi lain, Gedung Putih menyatakan bahwa segala bentuk pembicaraan dengan Korut harus berujung pada penghentian program nuklir negara itu. Korut membalas pernyataan Gedung Putih itu pada Sabtu (3/3) dengan mengulangi pernyataan bahwa mereka menolak segala prasyarat untuk duduk bersama AS. Juru bicara Kementerian Luar Negeri Korut seperti dikutip KCNA, mengatakan Korut tidak memohon untuk berdialog dengan AS serta tak akan menghapus opsi militer mereka. \"Apakah perdamaian yang kami dan seluruh dunia inginkan tercapai di Semenanjung Korea, atau sebuah situasi yang tidak diinginkan berkembang dalam lingkaran setan berupa konfrontasi, sepenuhnya bergantung pada sikap AS,\" kata juru bicara Kemlu Korut. Di tengah memanasnya hubungan Korut dan AS, pihak Korsel berencana mengirim utusan khusus ke Korut sebagai respons terhadap undangan dari Pemimpin Tertinggi Korut Kim Jong Un. Hal itu disampaikan Presiden Korsel Moon Jae-in kepada Trump lewat sambungan telepon pada Kamis lalu. Membaiknya\\xa0hubungan dua Korea tak lepas dari penyelenggaraan Olimpiade musim dingin di Pyeongchang, Korsel, bulan lalu yang turut dihadiri oleh Korut. (wis)'\n",
        "}\n",
        "\n",
        "# Melakukan case folding pada konten (content) dataset\n",
        "content_folded = raw_sample['content'].lower()\n",
        "\n",
        "# Menampilkan konten setelah case folding\n",
        "print(content_folded)\n"
      ],
      "metadata": {
        "id": "270YLzmEx8CD",
        "colab": {
          "base_uri": "https://localhost:8080/"
        },
        "outputId": "eb256b88-ad0b-4f4e-8d7f-3001eb79edc1"
      },
      "execution_count": 13,
      "outputs": [
        {
          "output_type": "stream",
          "name": "stdout",
          "text": [
            "jakarta, cnn indonesia -- korea utara mengancam akan mengambil langkah balasan kepada amerika serikat jika negara tersebut tetap menggelar latihan militer bersama korea selatan. pyongyang juga menegaskan tidak akan memohon-mohon kepada washington untuk menggelar suatu dialog. \"jika amerika serikat tetap menggelar latihan militer sambil tetap menerapkan sanksi kepada dprk, dprk akan mengambil tindakan balasan kepada as dengan cara kami sendiri dan mereka akan bertanggungjawab sepenuhnya atas konsekuensi-konsekuensi selanjutnya,\" demikian pernyataan resmi kantor berita korut, kcna. dprk adalah nama resmi korea utara, yakni democratic people's republic of korea atau republik rakyat demokratik korea. amerika serikat dijadwalkan menggelar latihan militer bersama korea selatan pada awal april. informasi itu didapat reuters berdasarkan pernyataan penasehat keamanan korea selatan kepada kantor berita yonhap. sebelumnya, pada 23 februari lalu, amerika serikat menyatakan menerapkan paket sanksi terbesar untuk menekan korut menghentikan program nuklir dan misilnya. presiden as donald trump bahkan mengingatkan tentang 'fase kedua' yang ia sebut 'sangat tidak menguntungkan bagi dunia' jika langkah-langkah sebelumnya tidak berjalan efektif. korut telah mengecam sanksi sepihak dari as tersebut, namun menegaskan masih terbuka untuk menggelar dialog dengan as. hal itu dikatakan pyongyang akhir bulan lalu saat sejumlah pejabat korut mengunjungi korsel dalam rangka perhelatan olimpiade musim dingin. di sisi lain, gedung putih menyatakan bahwa segala bentuk pembicaraan dengan korut harus berujung pada penghentian program nuklir negara itu. korut membalas pernyataan gedung putih itu pada sabtu (3/3) dengan mengulangi pernyataan bahwa mereka menolak segala prasyarat untuk duduk bersama as. juru bicara kementerian luar negeri korut seperti dikutip kcna, mengatakan korut tidak memohon untuk berdialog dengan as serta tak akan menghapus opsi militer mereka. \"apakah perdamaian yang kami dan seluruh dunia inginkan tercapai di semenanjung korea, atau sebuah situasi yang tidak diinginkan berkembang dalam lingkaran setan berupa konfrontasi, sepenuhnya bergantung pada sikap as,\" kata juru bicara kemlu korut. di tengah memanasnya hubungan korut dan as, pihak korsel berencana mengirim utusan khusus ke korut sebagai respons terhadap undangan dari pemimpin tertinggi korut kim jong un. hal itu disampaikan presiden korsel moon jae-in kepada trump lewat sambungan telepon pada kamis lalu. membaiknya hubungan dua korea tak lepas dari penyelenggaraan olimpiade musim dingin di pyeongchang, korsel, bulan lalu yang turut dihadiri oleh korut. (wis)\n"
          ]
        }
      ]
    },
    {
      "cell_type": "markdown",
      "source": [
        "word normalization"
      ],
      "metadata": {
        "id": "croY6AWvzA6Y"
      }
    },
    {
      "cell_type": "code",
      "source": [
        "key_norm = pd.read_csv('key_norm.csv')\n",
        "\n",
        "def text_normalize(text):\n",
        "  text = ' '.join([key_norm[key_norm['singkat'] == word]['hasil'].values[0] if (key_norm['singkat'] == word).any() else word for word in text.split()])\n",
        "  text = str.lower(text)\n",
        "  return text"
      ],
      "metadata": {
        "id": "7cPFfokpx8E8"
      },
      "execution_count": 15,
      "outputs": []
    },
    {
      "cell_type": "code",
      "source": [
        "key_norm"
      ],
      "metadata": {
        "id": "eD-nYp7ex8HU",
        "colab": {
          "base_uri": "https://localhost:8080/",
          "height": 423
        },
        "outputId": "9a9b3d01-d129-4431-e26c-84aa2138c31a"
      },
      "execution_count": 16,
      "outputs": [
        {
          "output_type": "execute_result",
          "data": {
            "text/plain": [
              "       _id      singkat        hasil\n",
              "0        1         abis        habis\n",
              "1        2       accent      tekanan\n",
              "2        3       accept       terima\n",
              "3        4     accident   kecelakaan\n",
              "4        5  achievement     prestasi\n",
              "...    ...          ...          ...\n",
              "3715  3716        ywdah     ya sudah\n",
              "3716  3717         ywdh     ya sudah\n",
              "3717  3718       ywdhlh  ya sudahlah\n",
              "3718  3719         ywis     ya sudah\n",
              "3719  3720           rp       rupiah\n",
              "\n",
              "[3720 rows x 3 columns]"
            ],
            "text/html": [
              "\n",
              "  <div id=\"df-2022c197-511c-4b86-aaaf-bf452d473cd1\" class=\"colab-df-container\">\n",
              "    <div>\n",
              "<style scoped>\n",
              "    .dataframe tbody tr th:only-of-type {\n",
              "        vertical-align: middle;\n",
              "    }\n",
              "\n",
              "    .dataframe tbody tr th {\n",
              "        vertical-align: top;\n",
              "    }\n",
              "\n",
              "    .dataframe thead th {\n",
              "        text-align: right;\n",
              "    }\n",
              "</style>\n",
              "<table border=\"1\" class=\"dataframe\">\n",
              "  <thead>\n",
              "    <tr style=\"text-align: right;\">\n",
              "      <th></th>\n",
              "      <th>_id</th>\n",
              "      <th>singkat</th>\n",
              "      <th>hasil</th>\n",
              "    </tr>\n",
              "  </thead>\n",
              "  <tbody>\n",
              "    <tr>\n",
              "      <th>0</th>\n",
              "      <td>1</td>\n",
              "      <td>abis</td>\n",
              "      <td>habis</td>\n",
              "    </tr>\n",
              "    <tr>\n",
              "      <th>1</th>\n",
              "      <td>2</td>\n",
              "      <td>accent</td>\n",
              "      <td>tekanan</td>\n",
              "    </tr>\n",
              "    <tr>\n",
              "      <th>2</th>\n",
              "      <td>3</td>\n",
              "      <td>accept</td>\n",
              "      <td>terima</td>\n",
              "    </tr>\n",
              "    <tr>\n",
              "      <th>3</th>\n",
              "      <td>4</td>\n",
              "      <td>accident</td>\n",
              "      <td>kecelakaan</td>\n",
              "    </tr>\n",
              "    <tr>\n",
              "      <th>4</th>\n",
              "      <td>5</td>\n",
              "      <td>achievement</td>\n",
              "      <td>prestasi</td>\n",
              "    </tr>\n",
              "    <tr>\n",
              "      <th>...</th>\n",
              "      <td>...</td>\n",
              "      <td>...</td>\n",
              "      <td>...</td>\n",
              "    </tr>\n",
              "    <tr>\n",
              "      <th>3715</th>\n",
              "      <td>3716</td>\n",
              "      <td>ywdah</td>\n",
              "      <td>ya sudah</td>\n",
              "    </tr>\n",
              "    <tr>\n",
              "      <th>3716</th>\n",
              "      <td>3717</td>\n",
              "      <td>ywdh</td>\n",
              "      <td>ya sudah</td>\n",
              "    </tr>\n",
              "    <tr>\n",
              "      <th>3717</th>\n",
              "      <td>3718</td>\n",
              "      <td>ywdhlh</td>\n",
              "      <td>ya sudahlah</td>\n",
              "    </tr>\n",
              "    <tr>\n",
              "      <th>3718</th>\n",
              "      <td>3719</td>\n",
              "      <td>ywis</td>\n",
              "      <td>ya sudah</td>\n",
              "    </tr>\n",
              "    <tr>\n",
              "      <th>3719</th>\n",
              "      <td>3720</td>\n",
              "      <td>rp</td>\n",
              "      <td>rupiah</td>\n",
              "    </tr>\n",
              "  </tbody>\n",
              "</table>\n",
              "<p>3720 rows × 3 columns</p>\n",
              "</div>\n",
              "    <div class=\"colab-df-buttons\">\n",
              "\n",
              "  <div class=\"colab-df-container\">\n",
              "    <button class=\"colab-df-convert\" onclick=\"convertToInteractive('df-2022c197-511c-4b86-aaaf-bf452d473cd1')\"\n",
              "            title=\"Convert this dataframe to an interactive table.\"\n",
              "            style=\"display:none;\">\n",
              "\n",
              "  <svg xmlns=\"http://www.w3.org/2000/svg\" height=\"24px\" viewBox=\"0 -960 960 960\">\n",
              "    <path d=\"M120-120v-720h720v720H120Zm60-500h600v-160H180v160Zm220 220h160v-160H400v160Zm0 220h160v-160H400v160ZM180-400h160v-160H180v160Zm440 0h160v-160H620v160ZM180-180h160v-160H180v160Zm440 0h160v-160H620v160Z\"/>\n",
              "  </svg>\n",
              "    </button>\n",
              "\n",
              "  <style>\n",
              "    .colab-df-container {\n",
              "      display:flex;\n",
              "      gap: 12px;\n",
              "    }\n",
              "\n",
              "    .colab-df-convert {\n",
              "      background-color: #E8F0FE;\n",
              "      border: none;\n",
              "      border-radius: 50%;\n",
              "      cursor: pointer;\n",
              "      display: none;\n",
              "      fill: #1967D2;\n",
              "      height: 32px;\n",
              "      padding: 0 0 0 0;\n",
              "      width: 32px;\n",
              "    }\n",
              "\n",
              "    .colab-df-convert:hover {\n",
              "      background-color: #E2EBFA;\n",
              "      box-shadow: 0px 1px 2px rgba(60, 64, 67, 0.3), 0px 1px 3px 1px rgba(60, 64, 67, 0.15);\n",
              "      fill: #174EA6;\n",
              "    }\n",
              "\n",
              "    .colab-df-buttons div {\n",
              "      margin-bottom: 4px;\n",
              "    }\n",
              "\n",
              "    [theme=dark] .colab-df-convert {\n",
              "      background-color: #3B4455;\n",
              "      fill: #D2E3FC;\n",
              "    }\n",
              "\n",
              "    [theme=dark] .colab-df-convert:hover {\n",
              "      background-color: #434B5C;\n",
              "      box-shadow: 0px 1px 3px 1px rgba(0, 0, 0, 0.15);\n",
              "      filter: drop-shadow(0px 1px 2px rgba(0, 0, 0, 0.3));\n",
              "      fill: #FFFFFF;\n",
              "    }\n",
              "  </style>\n",
              "\n",
              "    <script>\n",
              "      const buttonEl =\n",
              "        document.querySelector('#df-2022c197-511c-4b86-aaaf-bf452d473cd1 button.colab-df-convert');\n",
              "      buttonEl.style.display =\n",
              "        google.colab.kernel.accessAllowed ? 'block' : 'none';\n",
              "\n",
              "      async function convertToInteractive(key) {\n",
              "        const element = document.querySelector('#df-2022c197-511c-4b86-aaaf-bf452d473cd1');\n",
              "        const dataTable =\n",
              "          await google.colab.kernel.invokeFunction('convertToInteractive',\n",
              "                                                    [key], {});\n",
              "        if (!dataTable) return;\n",
              "\n",
              "        const docLinkHtml = 'Like what you see? Visit the ' +\n",
              "          '<a target=\"_blank\" href=https://colab.research.google.com/notebooks/data_table.ipynb>data table notebook</a>'\n",
              "          + ' to learn more about interactive tables.';\n",
              "        element.innerHTML = '';\n",
              "        dataTable['output_type'] = 'display_data';\n",
              "        await google.colab.output.renderOutput(dataTable, element);\n",
              "        const docLink = document.createElement('div');\n",
              "        docLink.innerHTML = docLinkHtml;\n",
              "        element.appendChild(docLink);\n",
              "      }\n",
              "    </script>\n",
              "  </div>\n",
              "\n",
              "\n",
              "<div id=\"df-a9d406cb-55e2-4af5-9643-ffa4546c7b86\">\n",
              "  <button class=\"colab-df-quickchart\" onclick=\"quickchart('df-a9d406cb-55e2-4af5-9643-ffa4546c7b86')\"\n",
              "            title=\"Suggest charts.\"\n",
              "            style=\"display:none;\">\n",
              "\n",
              "<svg xmlns=\"http://www.w3.org/2000/svg\" height=\"24px\"viewBox=\"0 0 24 24\"\n",
              "     width=\"24px\">\n",
              "    <g>\n",
              "        <path d=\"M19 3H5c-1.1 0-2 .9-2 2v14c0 1.1.9 2 2 2h14c1.1 0 2-.9 2-2V5c0-1.1-.9-2-2-2zM9 17H7v-7h2v7zm4 0h-2V7h2v10zm4 0h-2v-4h2v4z\"/>\n",
              "    </g>\n",
              "</svg>\n",
              "  </button>\n",
              "\n",
              "<style>\n",
              "  .colab-df-quickchart {\n",
              "      --bg-color: #E8F0FE;\n",
              "      --fill-color: #1967D2;\n",
              "      --hover-bg-color: #E2EBFA;\n",
              "      --hover-fill-color: #174EA6;\n",
              "      --disabled-fill-color: #AAA;\n",
              "      --disabled-bg-color: #DDD;\n",
              "  }\n",
              "\n",
              "  [theme=dark] .colab-df-quickchart {\n",
              "      --bg-color: #3B4455;\n",
              "      --fill-color: #D2E3FC;\n",
              "      --hover-bg-color: #434B5C;\n",
              "      --hover-fill-color: #FFFFFF;\n",
              "      --disabled-bg-color: #3B4455;\n",
              "      --disabled-fill-color: #666;\n",
              "  }\n",
              "\n",
              "  .colab-df-quickchart {\n",
              "    background-color: var(--bg-color);\n",
              "    border: none;\n",
              "    border-radius: 50%;\n",
              "    cursor: pointer;\n",
              "    display: none;\n",
              "    fill: var(--fill-color);\n",
              "    height: 32px;\n",
              "    padding: 0;\n",
              "    width: 32px;\n",
              "  }\n",
              "\n",
              "  .colab-df-quickchart:hover {\n",
              "    background-color: var(--hover-bg-color);\n",
              "    box-shadow: 0 1px 2px rgba(60, 64, 67, 0.3), 0 1px 3px 1px rgba(60, 64, 67, 0.15);\n",
              "    fill: var(--button-hover-fill-color);\n",
              "  }\n",
              "\n",
              "  .colab-df-quickchart-complete:disabled,\n",
              "  .colab-df-quickchart-complete:disabled:hover {\n",
              "    background-color: var(--disabled-bg-color);\n",
              "    fill: var(--disabled-fill-color);\n",
              "    box-shadow: none;\n",
              "  }\n",
              "\n",
              "  .colab-df-spinner {\n",
              "    border: 2px solid var(--fill-color);\n",
              "    border-color: transparent;\n",
              "    border-bottom-color: var(--fill-color);\n",
              "    animation:\n",
              "      spin 1s steps(1) infinite;\n",
              "  }\n",
              "\n",
              "  @keyframes spin {\n",
              "    0% {\n",
              "      border-color: transparent;\n",
              "      border-bottom-color: var(--fill-color);\n",
              "      border-left-color: var(--fill-color);\n",
              "    }\n",
              "    20% {\n",
              "      border-color: transparent;\n",
              "      border-left-color: var(--fill-color);\n",
              "      border-top-color: var(--fill-color);\n",
              "    }\n",
              "    30% {\n",
              "      border-color: transparent;\n",
              "      border-left-color: var(--fill-color);\n",
              "      border-top-color: var(--fill-color);\n",
              "      border-right-color: var(--fill-color);\n",
              "    }\n",
              "    40% {\n",
              "      border-color: transparent;\n",
              "      border-right-color: var(--fill-color);\n",
              "      border-top-color: var(--fill-color);\n",
              "    }\n",
              "    60% {\n",
              "      border-color: transparent;\n",
              "      border-right-color: var(--fill-color);\n",
              "    }\n",
              "    80% {\n",
              "      border-color: transparent;\n",
              "      border-right-color: var(--fill-color);\n",
              "      border-bottom-color: var(--fill-color);\n",
              "    }\n",
              "    90% {\n",
              "      border-color: transparent;\n",
              "      border-bottom-color: var(--fill-color);\n",
              "    }\n",
              "  }\n",
              "</style>\n",
              "\n",
              "  <script>\n",
              "    async function quickchart(key) {\n",
              "      const quickchartButtonEl =\n",
              "        document.querySelector('#' + key + ' button');\n",
              "      quickchartButtonEl.disabled = true;  // To prevent multiple clicks.\n",
              "      quickchartButtonEl.classList.add('colab-df-spinner');\n",
              "      try {\n",
              "        const charts = await google.colab.kernel.invokeFunction(\n",
              "            'suggestCharts', [key], {});\n",
              "      } catch (error) {\n",
              "        console.error('Error during call to suggestCharts:', error);\n",
              "      }\n",
              "      quickchartButtonEl.classList.remove('colab-df-spinner');\n",
              "      quickchartButtonEl.classList.add('colab-df-quickchart-complete');\n",
              "    }\n",
              "    (() => {\n",
              "      let quickchartButtonEl =\n",
              "        document.querySelector('#df-a9d406cb-55e2-4af5-9643-ffa4546c7b86 button');\n",
              "      quickchartButtonEl.style.display =\n",
              "        google.colab.kernel.accessAllowed ? 'block' : 'none';\n",
              "    })();\n",
              "  </script>\n",
              "</div>\n",
              "    </div>\n",
              "  </div>\n"
            ]
          },
          "metadata": {},
          "execution_count": 16
        }
      ]
    },
    {
      "cell_type": "code",
      "source": [
        "text_normalize"
      ],
      "metadata": {
        "colab": {
          "base_uri": "https://localhost:8080/"
        },
        "id": "vo0RRV_uhHXB",
        "outputId": "ed138fa1-b68c-459b-be6e-9b342154eb1e"
      },
      "execution_count": 17,
      "outputs": [
        {
          "output_type": "execute_result",
          "data": {
            "text/plain": [
              "<function __main__.text_normalize(text)>"
            ]
          },
          "metadata": {},
          "execution_count": 17
        }
      ]
    },
    {
      "cell_type": "code",
      "source": [
        "# dataset\n",
        "raw_sample = {\n",
        "    'date': '2018-03-04 01:09:00',\n",
        "    'title': 'Korut Ancam Ambil Langkah Tegas Jika AS Gelar Latihan Militer',\n",
        "    'content': 'Jakarta, CNN Indonesia -- Korea Utara mengancam akan mengambil langkah balasan kepada Amerika Serikat jika negara tersebut tetap menggelar latihan militer bersama Korea Selatan. Pyongyang juga menegaskan tidak akan memohon-mohon kepada Washington untuk menggelar suatu dialog. \"Jika Amerika Serikat tetap menggelar latihan militer sambil tetap menerapkan sanksi kepada DPRK, DPRK akan mengambil tindakan balasan kepada AS dengan cara kami sendiri dan mereka akan bertanggungjawab sepenuhnya atas konsekuensi-konsekuensi selanjutnya,\" demikian pernyataan resmi Kantor Berita Korut, KCNA. DPRK adalah nama resmi Korea Utara, yakni Democratic People\\'s Republic of Korea atau Republik Rakyat Demokratik Korea. Amerika Serikat dijadwalkan menggelar latihan militer bersama Korea Selatan pada awal April. Informasi itu didapat Reuters berdasarkan pernyataan penasehat keamanan Korea Selatan kepada Kantor Berita Yonhap. Sebelumnya, pada 23 Februari lalu, Amerika Serikat menyatakan menerapkan paket sanksi terbesar untuk menekan Korut menghentikan program nuklir dan misilnya. Presiden AS Donald Trump bahkan mengingatkan tentang \\'fase kedua\\' yang ia sebut\\xa0\\'sangat tidak menguntungkan bagi dunia\\' jika langkah-langkah sebelumnya\\xa0tidak berjalan efektif. Korut telah mengecam sanksi sepihak dari AS tersebut, namun menegaskan masih terbuka untuk menggelar dialog dengan AS. Hal itu dikatakan Pyongyang akhir bulan lalu saat sejumlah pejabat Korut mengunjungi Korsel dalam rangka perhelatan Olimpiade musim dingin. Di sisi lain, Gedung Putih menyatakan bahwa segala bentuk pembicaraan dengan Korut harus berujung pada penghentian program nuklir negara itu. Korut membalas pernyataan Gedung Putih itu pada Sabtu (3/3) dengan mengulangi pernyataan bahwa mereka menolak segala prasyarat untuk duduk bersama AS. Juru bicara Kementerian Luar Negeri Korut seperti dikutip KCNA, mengatakan Korut tidak memohon untuk berdialog dengan AS serta tak akan menghapus opsi militer mereka. \"Apakah perdamaian yang kami dan seluruh dunia inginkan tercapai di Semenanjung Korea, atau sebuah situasi yang tidak diinginkan berkembang dalam lingkaran setan berupa konfrontasi, sepenuhnya bergantung pada sikap AS,\" kata juru bicara Kemlu Korut. Di tengah memanasnya hubungan Korut dan AS, pihak Korsel berencana mengirim utusan khusus ke Korut sebagai respons terhadap undangan dari Pemimpin Tertinggi Korut Kim Jong Un. Hal itu disampaikan Presiden Korsel Moon Jae-in kepada Trump lewat sambungan telepon pada Kamis lalu. Membaiknya\\xa0hubungan dua Korea tak lepas dari penyelenggaraan Olimpiade musim dingin di Pyeongchang, Korsel, bulan lalu yang turut dihadiri oleh Korut. (wis)'\n",
        "}\n",
        "\n",
        "# Melakukan text normalisasi pada konten (content) dataset\n",
        "key_norm = raw_sample['content'].lower()\n",
        "\n",
        "# Menampilkan konten setelah text normalisasi\n",
        "print(key_norm)"
      ],
      "metadata": {
        "colab": {
          "base_uri": "https://localhost:8080/"
        },
        "id": "95qQZdHm4T1m",
        "outputId": "a44d9dfd-ae66-4689-c1ad-620e0de19527"
      },
      "execution_count": 26,
      "outputs": [
        {
          "output_type": "stream",
          "name": "stdout",
          "text": [
            "jakarta, cnn indonesia -- korea utara mengancam akan mengambil langkah balasan kepada amerika serikat jika negara tersebut tetap menggelar latihan militer bersama korea selatan. pyongyang juga menegaskan tidak akan memohon-mohon kepada washington untuk menggelar suatu dialog. \"jika amerika serikat tetap menggelar latihan militer sambil tetap menerapkan sanksi kepada dprk, dprk akan mengambil tindakan balasan kepada as dengan cara kami sendiri dan mereka akan bertanggungjawab sepenuhnya atas konsekuensi-konsekuensi selanjutnya,\" demikian pernyataan resmi kantor berita korut, kcna. dprk adalah nama resmi korea utara, yakni democratic people's republic of korea atau republik rakyat demokratik korea. amerika serikat dijadwalkan menggelar latihan militer bersama korea selatan pada awal april. informasi itu didapat reuters berdasarkan pernyataan penasehat keamanan korea selatan kepada kantor berita yonhap. sebelumnya, pada 23 februari lalu, amerika serikat menyatakan menerapkan paket sanksi terbesar untuk menekan korut menghentikan program nuklir dan misilnya. presiden as donald trump bahkan mengingatkan tentang 'fase kedua' yang ia sebut 'sangat tidak menguntungkan bagi dunia' jika langkah-langkah sebelumnya tidak berjalan efektif. korut telah mengecam sanksi sepihak dari as tersebut, namun menegaskan masih terbuka untuk menggelar dialog dengan as. hal itu dikatakan pyongyang akhir bulan lalu saat sejumlah pejabat korut mengunjungi korsel dalam rangka perhelatan olimpiade musim dingin. di sisi lain, gedung putih menyatakan bahwa segala bentuk pembicaraan dengan korut harus berujung pada penghentian program nuklir negara itu. korut membalas pernyataan gedung putih itu pada sabtu (3/3) dengan mengulangi pernyataan bahwa mereka menolak segala prasyarat untuk duduk bersama as. juru bicara kementerian luar negeri korut seperti dikutip kcna, mengatakan korut tidak memohon untuk berdialog dengan as serta tak akan menghapus opsi militer mereka. \"apakah perdamaian yang kami dan seluruh dunia inginkan tercapai di semenanjung korea, atau sebuah situasi yang tidak diinginkan berkembang dalam lingkaran setan berupa konfrontasi, sepenuhnya bergantung pada sikap as,\" kata juru bicara kemlu korut. di tengah memanasnya hubungan korut dan as, pihak korsel berencana mengirim utusan khusus ke korut sebagai respons terhadap undangan dari pemimpin tertinggi korut kim jong un. hal itu disampaikan presiden korsel moon jae-in kepada trump lewat sambungan telepon pada kamis lalu. membaiknya hubungan dua korea tak lepas dari penyelenggaraan olimpiade musim dingin di pyeongchang, korsel, bulan lalu yang turut dihadiri oleh korut. (wis)\n"
          ]
        }
      ]
    },
    {
      "cell_type": "markdown",
      "source": [
        "filtering(stopword removal)"
      ],
      "metadata": {
        "id": "DlosfHthW7mV"
      }
    },
    {
      "cell_type": "code",
      "source": [
        "#pip install nltk"
      ],
      "metadata": {
        "id": "BUULbs5yW80C"
      },
      "execution_count": null,
      "outputs": []
    },
    {
      "cell_type": "code",
      "source": [
        "import nltk\n",
        "from nltk.corpus import stopwords\n",
        "\n",
        "# dataset\n",
        "raw_sample = {\n",
        "    'date': '2018-03-04 01:09:00',\n",
        "    'title': 'Korut Ancam Ambil Langkah Tegas Jika AS Gelar Latihan Militer',\n",
        "    'content': 'Jakarta, CNN Indonesia -- Korea Utara mengancam akan mengambil langkah balasan kepada Amerika Serikat jika negara tersebut tetap menggelar latihan militer bersama Korea Selatan. Pyongyang juga menegaskan tidak akan memohon-mohon kepada Washington untuk menggelar suatu dialog. \"Jika Amerika Serikat tetap menggelar latihan militer sambil tetap menerapkan sanksi kepada DPRK, DPRK akan mengambil tindakan balasan kepada AS dengan cara kami sendiri dan mereka akan bertanggungjawab sepenuhnya atas konsekuensi-konsekuensi selanjutnya,\" demikian pernyataan resmi Kantor Berita Korut, KCNA. DPRK adalah nama resmi Korea Utara, yakni Democratic People\\'s Republic of Korea atau Republik Rakyat Demokratik Korea. Amerika Serikat dijadwalkan menggelar latihan militer bersama Korea Selatan pada awal April. Informasi itu didapat Reuters berdasarkan pernyataan penasehat keamanan Korea Selatan kepada Kantor Berita Yonhap. Sebelumnya, pada 23 Februari lalu, Amerika Serikat menyatakan menerapkan paket sanksi terbesar untuk menekan Korut menghentikan program nuklir dan misilnya. Presiden AS Donald Trump bahkan mengingatkan tentang \\'fase kedua\\' yang ia sebut\\xa0\\'sangat tidak menguntungkan bagi dunia\\' jika langkah-langkah sebelumnya\\xa0tidak berjalan efektif. Korut telah mengecam sanksi sepihak dari AS tersebut, namun menegaskan masih terbuka untuk menggelar dialog dengan AS. Hal itu dikatakan Pyongyang akhir bulan lalu saat sejumlah pejabat Korut mengunjungi Korsel dalam rangka perhelatan Olimpiade musim dingin. Di sisi lain, Gedung Putih menyatakan bahwa segala bentuk pembicaraan dengan Korut harus berujung pada penghentian program nuklir negara itu. Korut membalas pernyataan Gedung Putih itu pada Sabtu (3/3) dengan mengulangi pernyataan bahwa mereka menolak segala prasyarat untuk duduk bersama AS. Juru bicara Kementerian Luar Negeri Korut seperti dikutip KCNA, mengatakan Korut tidak memohon untuk berdialog dengan AS serta tak akan menghapus opsi militer mereka. \"Apakah perdamaian yang kami dan seluruh dunia inginkan tercapai di Semenanjung Korea, atau sebuah situasi yang tidak diinginkan berkembang dalam lingkaran setan berupa konfrontasi, sepenuhnya bergantung pada sikap AS,\" kata juru bicara Kemlu Korut. Di tengah memanasnya hubungan Korut dan AS, pihak Korsel berencana mengirim utusan khusus ke Korut sebagai respons terhadap undangan dari Pemimpin Tertinggi Korut Kim Jong Un. Hal itu disampaikan Presiden Korsel Moon Jae-in kepada Trump lewat sambungan telepon pada Kamis lalu. Membaiknya\\xa0hubungan dua Korea tak lepas dari penyelenggaraan Olimpiade musim dingin di Pyeongchang, Korsel, bulan lalu yang turut dihadiri oleh Korut. (wis)'\n",
        "}\n",
        "\n",
        "# Mengunduh stopwords dari NLTK\n",
        "nltk.download('stopwords')\n",
        "\n",
        "# Menggunakan stopwords dari NLTK untuk filtering\n",
        "stop_words = set(stopwords.words('indonesian'))  # Anda dapat mengganti 'indonesian' dengan bahasa yang sesuai\n",
        "\n",
        "# Melakukan filtering (penghapusan stopwords) pada konten (content) dataset\n",
        "words = raw_sample['content'].split()\n",
        "filtered_content = ' '.join([word for word in words if word.lower() not in stop_words])\n",
        "\n",
        "# Menampilkan konten setelah filtering (tanpa stopwords)\n",
        "print(filtered_content)\n"
      ],
      "metadata": {
        "colab": {
          "base_uri": "https://localhost:8080/"
        },
        "id": "lOJloxoXXHQG",
        "outputId": "40b23eb0-940d-4f7b-e194-b3ee57a2797e"
      },
      "execution_count": 35,
      "outputs": [
        {
          "output_type": "stream",
          "name": "stdout",
          "text": [
            "Jakarta, CNN Indonesia -- Korea Utara mengancam mengambil langkah balasan Amerika Serikat negara menggelar latihan militer Korea Selatan. Pyongyang memohon-mohon Washington menggelar dialog. \"Jika Amerika Serikat menggelar latihan militer menerapkan sanksi DPRK, DPRK mengambil tindakan balasan AS bertanggungjawab sepenuhnya konsekuensi-konsekuensi selanjutnya,\" pernyataan resmi Kantor Berita Korut, KCNA. DPRK nama resmi Korea Utara, Democratic People's Republic of Korea Republik Rakyat Demokratik Korea. Amerika Serikat dijadwalkan menggelar latihan militer Korea Selatan April. Informasi Reuters berdasarkan pernyataan penasehat keamanan Korea Selatan Kantor Berita Yonhap. Sebelumnya, 23 Februari lalu, Amerika Serikat menerapkan paket sanksi terbesar menekan Korut menghentikan program nuklir misilnya. Presiden AS Donald Trump 'fase kedua' 'sangat menguntungkan dunia' langkah-langkah berjalan efektif. Korut mengecam sanksi AS tersebut, terbuka menggelar dialog AS. Pyongyang pejabat Korut mengunjungi Korsel rangka perhelatan Olimpiade musim dingin. sisi lain, Gedung Putih bentuk pembicaraan Korut berujung penghentian program nuklir negara itu. Korut membalas pernyataan Gedung Putih Sabtu (3/3) mengulangi pernyataan menolak prasyarat duduk AS. Juru bicara Kementerian Negeri Korut dikutip KCNA, Korut memohon berdialog AS menghapus opsi militer mereka. \"Apakah perdamaian dunia tercapai Semenanjung Korea, situasi berkembang lingkaran setan konfrontasi, sepenuhnya bergantung sikap AS,\" juru bicara Kemlu Korut. memanasnya hubungan Korut AS, Korsel berencana mengirim utusan khusus Korut respons undangan Pemimpin Tertinggi Korut Kim Jong Un. Presiden Korsel Moon Jae-in Trump sambungan telepon Kamis lalu. Membaiknya hubungan Korea lepas penyelenggaraan Olimpiade musim dingin Pyeongchang, Korsel, dihadiri Korut. (wis)\n"
          ]
        },
        {
          "output_type": "stream",
          "name": "stderr",
          "text": [
            "[nltk_data] Downloading package stopwords to /root/nltk_data...\n",
            "[nltk_data]   Unzipping corpora/stopwords.zip.\n"
          ]
        }
      ]
    },
    {
      "cell_type": "code",
      "source": [
        "import nltk\n",
        "from nltk.corpus import stopwords\n",
        "\n",
        "# Mengunduh stopwords dari NLTK untuk bahasa Indonesia\n",
        "nltk.download('stopwords')\n",
        "stop_words = set(stopwords.words('indonesian'))\n",
        "\n",
        "# Menampilkan daftar stopwords\n",
        "print(stop_words)"
      ],
      "metadata": {
        "colab": {
          "base_uri": "https://localhost:8080/"
        },
        "id": "doyggubaXHWv",
        "outputId": "c66bbfac-adf1-4285-a84e-b62317c841e7"
      },
      "execution_count": 36,
      "outputs": [
        {
          "output_type": "stream",
          "name": "stdout",
          "text": [
            "{'manakala', 'waktu', 'sebagian', 'sebelum', 'atau', 'entah', 'balik', 'seingat', 'ujar', 'bagaikan', 'tahu', 'melalui', 'ibaratkan', 'bukanlah', 'cukuplah', 'bersama', 'belakangan', 'selalu', 'didapat', 'adapun', 'bertanya-tanya', 'jawabnya', 'berakhirlah', 'meskipun', 'misalnya', 'siapapun', 'atas', 'siapakah', 'diungkapkan', 'banyak', 'hingga', 'belumlah', 'bukan', 'minta', 'diperkirakan', 'kala', 'walau', 'nantinya', 'dimaksudkannya', 'diberikannya', 'terjadinya', 'sedikitnya', 'lebih', 'masa', 'bermula', 'tinggi', 'digunakan', 'dikerjakan', 'usai', 'menanya', 'sebegini', 'sudahlah', 'keadaan', 'segera', 'toh', 'tiba-tiba', 'dikatakannya', 'kamu', 'sekadar', 'dua', 'kapanpun', 'enggak', 'berujar', 'mampukah', 'bersiap-siap', 'se', 'lama', 'lamanya', 'begitulah', 'keseluruhan', 'mendatangkan', 'sepihak', 'mendapat', 'sesudahnya', 'sebagai', 'semula', 'pertama', 'sedikit', 'kemudian', 'tentulah', 'memperbuat', 'sebaik-baiknya', 'perlukah', 'seperlunya', 'pihaknya', 'kata', 'sesampai', 'sini', 'mengibaratkan', 'bahwa', 'keinginan', 'sesuatu', 'asal', 'menanti-nanti', 'terakhir', 'inginkah', 'dijelaskan', 'percuma', 'ialah', 'diantaranya', 'juga', 'memang', 'agaknya', 'berikut', 'kini', 'per', 'waktunya', 'adanya', 'apaan', 'bapak', 'mempergunakan', 'demikian', 'kepada', 'dengan', 'kira-kira', 'mempersiapkan', 'berlainan', 'kita', 'dituturkannya', 'serta', 'sekali-kali', 'dimulai', 'tanpa', 'bukankah', 'katanya', 'setidaknya', 'adalah', 'sana', 'penting', 'masing', 'ingat-ingat', 'berlangsung', 'bolehlah', 'menyangkut', 'semasih', 'berkeinginan', 'siap', 'ucapnya', 'ditanyakan', 'misal', 'lanjutnya', 'sayalah', 'manalagi', 'ibaratnya', 'teringat', 'antar', 'jelasnya', 'serupa', 'daripada', 'justru', 'tegasnya', 'sekalipun', 'menurut', 'ditujukan', 'semampu', 'setiba', 'tunjuk', 'bertutur', 'tanyanya', 'demikianlah', 'artinya', 'di', 'memberi', 'betulkah', 'setelah', 'mengatakan', 'guna', 'berapakah', 'karena', 'berarti', 'dapat', 'memulai', 'bagaimana', 'mampu', 'dalam', 'menginginkan', 'semuanya', 'pula', 'sendiri', 'nyatanya', 'disebut', 'dulu', 'tentang', 'nyaris', 'usah', 'selanjutnya', 'cukup', 'terdahulu', 'agar', 'berikutnya', 'diakhirinya', 'sebut', 'terhadapnya', 'wahai', 'diakhiri', 'ucap', 'berkali-kali', 'bagian', 'makin', 'pertama-tama', 'akulah', 'seterusnya', 'berturut', 'kelima', 'kedua', 'sendirinya', 'untuk', 'apabila', 'bagaimanapun', 'kalau', 'terdiri', 'dilakukan', 'pun', 'sesegera', 'biasa', 'sehingga', 'terutama', 'bakal', 'lagi', 'menanyakan', 'cukupkah', 'secara', 'menunjuki', 'sejumlah', 'yang', 'masing-masing', 'disebutkannya', 'dituturkan', 'disebutkan', 'dipersoalkan', 'mengatakannya', 'katakanlah', 'saat', 'berlebihan', 'seorang', 'keseluruhannya', 'melainkan', 'dahulu', 'kemungkinan', 'akhir', 'diingat', 'begitu', 'mulailah', 'seperti', 'sepantasnyalah', 'berdatangan', 'selamanya', 'semacam', 'sesama', 'diibaratkan', 'tentunya', 'anda', 'melihat', 'seolah', 'menjawab', 'suatu', 'bilakah', 'ditunjukkan', 'sampai-sampai', 'ungkap', 'jawaban', 'belakang', 'sekecil', 'hal', 'bisa', 'apatah', 'inilah', 'asalkan', 'soal', 'berapa', 'setinggi', 'diberikan', 'dipergunakan', 'jadi', 'boleh', 'dimaksudnya', 'akhirnya', 'bersiap', 'sekarang', 'seberapa', 'mendapatkan', 'sekurang-kurangnya', 'mereka', 'selain', 'wah', 'maka', 'makanya', 'panjang', 'terdapat', 'ada', 'satu', 'sejauh', 'masih', 'oleh', 'berawal', 'bermacam-macam', 'biasanya', 'harus', 'jikalau', 'sebagainya', 'diibaratkannya', 'mana', 'betul', 'lah', 'memperkirakan', 'tandasnya', 'turut', 'selama', 'ketika', 'walaupun', 'buat', 'mengungkapkan', 'teringat-ingat', 'sebesar', 'tadinya', 'malah', 'seluruh', 'waduh', 'bagaimanakah', 'diketahui', 'besar', 'memintakan', 'sebutnya', 'setiap', 'diperlihatkan', 'dikarenakan', 'itukah', 'tampaknya', 'jelaslah', 'pukul', 'datang', 'bahwasanya', 'dari', 'sedang', 'sekadarnya', 'dimungkinkan', 'itu', 'merasa', 'cuma', 'rasanya', 'ternyata', 'pertanyakan', 'bakalan', 'kalaupun', 'kecil', 'sebenarnya', 'soalnya', 'baru', 'saatnya', 'tidakkah', 'sewaktu', 'disampaikan', 'setidak-tidaknya', 'berakhir', 'jauh', 'terkira', 'kiranya', 'sebagaimana', 'jumlahnya', 'mulai', 'tahun', 'diminta', 'sangatlah', 'terjadi', 'meminta', 'kenapa', 'itulah', 'tidak', 'diperlukan', 'tuturnya', 'semasa', 'berakhirnya', 'dini', 'ditunjuknya', 'cara', 'masalahnya', 'bisakah', 'terus', 'akankah', 'yakin', 'apalagi', 'pasti', 'hendaknya', 'macam', 'semata', 'telah', 'tetap', 'kapan', 'khususnya', 'sementara', 'ungkapnya', 'ujarnya', 'mengucapkannya', 'andalah', 'jika', 'ditunjukkannya', 'hendaklah', 'bung', 'memerlukan', 'kok', 'terhadap', 'siapa', 'semisalnya', 'kelihatan', 'sebaiknya', 'tempat', 'rasa', 'menuju', 'jawab', 'melihatnya', 'menggunakan', 'seketika', 'kembali', 'kesampaian', 'rupanya', 'ataukah', 'maupun', 'pak', 'sedemikian', 'berupa', 'dia', 'dilihat', 'amatlah', 'meyakinkan', 'sampai', 'dimisalkan', 'pihak', 'diri', 'dimulailah', 'sekalian', 'dijelaskannya', 'menyeluruh', 'sangat', 'ditanyai', 'ibarat', 'menjelaskan', 'sebetulnya', 'benar', 'tanya', 'olehnya', 'mulanya', 'apakah', 'padanya', 'sekali', 'semua', 'mungkinkah', 'yakni', 'berturut-turut', 'kalian', 'sama-sama', 'diperlukannya', 'sejak', 'wong', 'kelihatannya', 'mengerjakan', 'memastikan', 'dipastikan', 'jelas', 'sering', 'amat', 'keduanya', 'melakukan', 'punya', 'sesudah', 'ingat', 'sebabnya', 'tambah', 'setibanya', 'tak', 'caranya', 'mau', 'dipunyai', 'antara', 'beberapa', 'begitukah', 'hampir', 'perlunya', 'ditunjuki', 'enggaknya', 'termasuk', 'memisalkan', 'kami', 'bulan', 'menuturkan', 'sudahkah', 'bermacam', 'mengetahui', 'keterlaluan', 'sepantasnya', 'dekat', 'lanjut', 'merupakan', 'para', 'seolah-olah', 'inikah', 'belum', 'sebuah', 'sepertinya', 'mula', 'tampak', 'karenanya', 'sebisanya', 'menaiki', 'hendak', 'dong', 'diperbuat', 'kebetulan', 'sampaikan', 'mempertanyakan', 'bukannya', 'apa', 'kasus', 'sama', 'ibu', 'sekitarnya', 'dimaksudkan', 'dimintai', 'entahlah', 'mendatang', 'kurang', 'ini', 'jumlah', 'benarlah', 'berjumlah', 'dibuat', 'dan', 'nah', 'segalanya', 'lima', 'sambil', 'seharusnya', 'seseorang', 'kamilah', 'selama-lamanya', 'nanti', 'tetapi', 'jadilah', 'seusai', 'bila', 'berbagai', 'dikatakan', 'tersampaikan', 'dipertanyakan', 'pantas', 'seenaknya', 'sebaliknya', 'disini', 'bahkan', 'menambahkan', 'sebaik', 'menyatakan', 'tertentu', 'lewat', 'mengapa', 'terlihat', 'menunjuk', 'tiba', 'aku', 'baik', 'awalnya', 'menantikan', 'pernah', 'diucapkannya', 'sajalah', 'semata-mata', 'setempat', 'tadi', 'kepadanya', 'lagian', 'misalkan', 'janganlah', 'dialah', 'sepanjang', 'tersebutlah', 'kamulah', 'beri', 'kira', 'padahal', 'selaku', 'umum', 'katakan', 'tersebut', 'memihak', 'merekalah', 'berkenaan', 'dimulainya', 'menghendaki', 'mempersoalkan', 'bagi', 'sekiranya', 'jangan', 'hanya', 'ataupun', 'ditanya', 'inginkan', 'mengingat', 'malahan', 'memberikan', 'berkata', 'gunakan', 'segala', 'sinilah', 'tentu', 'tepat', 'sekurangnya', 'dirinya', 'yaitu', 'ia', 'menyiapkan', 'terlalu', 'bolehkah', 'mempunyai', 'diketahuinya', 'mendatangi', 'mengenai', 'hari', 'sebab', 'menjadi', 'antaranya', 'sedangkan', 'supaya', 'diucapkan', 'sudah', 'sekitar', 'memungkinkan', 'tengah', 'pertanyaan', 'bersama-sama', 'semakin', 'seluruhnya', 'bawah', 'tapi', 'beginian', 'membuat', 'ikut', 'berapapun', 'akan', 'depan', 'lainnya', 'mengucapkan', 'kelamaan', 'mengibaratkannya', 'sesuatunya', 'kinilah', 'demi', 'awal', 'diingatkan', 'kemungkinannya', 'berlalu', 'akhiri', 'kapankah', 'keluar', 'menunjuknya', 'sela', 'sendirian', 'dikira', 'namun', 'pastilah', 'benarkah', 'semaunya', 'perlu', 'tandas', 'ditunjuk', 'disinilah', 'menegaskan', 'ditegaskan', 'tambahnya', 'saja', 'tiap', 'jadinya', 'tutur', 'agak', 'pada', 'diperbuatnya', 'terlebih', 'jangankan', 'ditandaskan', 'saya', 'semampunya', 'saling', 'berikan', 'bagai', 'memperlihatkan', 'persoalan', 'berkehendak', 'kalaulah', 'menyampaikan', 'masalah', 'ditambahkan', 'masihkah', 'hanyalah', 'tegas', 'berada', 'menanyai', 'beginikah', 'mengira', 'dilalui', 'menyebutkan', 'terasa', 'kitalah', 'bekerja', 'haruslah', 'ingin', 'sebanyak', 'setengah', 'didatangkan', 'empat', 'mirip', 'diantara', 'begini', 'meski', 'dibuatnya', 'ke', 'sebelumnya', 'menanti', 'begitupun', 'bertanya', 'sebegitu', 'diberi', 'dijawab', 'luar', 'mungkin', 'tanyakan', 'lain', 'secukupnya', 'tidaklah', 'semisal', 'tertuju', 'seringnya', 'dimaksud', 'sesaat', 'meyakini', 'mengingatkan', 'diinginkan', 'naik', 'sesekali', 'kan', 'bermaksud', 'beginilah', 'rata', 'mengakhiri', 'harusnya', 'umumnya', 'sempat', 'lalu', 'jelaskan', 'sekaligus', 'berapalah', 'pentingnya', 'menunjukkan', 'terjadilah', 'menandaskan', 'paling', 'sebutlah', 'sejenak', 'terbanyak', 'tiga'}\n"
          ]
        },
        {
          "output_type": "stream",
          "name": "stderr",
          "text": [
            "[nltk_data] Downloading package stopwords to /root/nltk_data...\n",
            "[nltk_data]   Package stopwords is already up-to-date!\n"
          ]
        }
      ]
    },
    {
      "cell_type": "markdown",
      "source": [
        "stemming"
      ],
      "metadata": {
        "id": "Jh39CMFYzH-m"
      }
    },
    {
      "cell_type": "code",
      "source": [
        "# Instal pustaka Sastrawi\n",
        "!pip install Sastrawi\n",
        "\n",
        "# Impor pustaka Sastrawi\n",
        "from Sastrawi.Stemmer.StemmerFactory import StemmerFactory\n",
        "\n",
        "# Inisialisasi stemmer Sastrawi\n",
        "stemmer = StemmerFactory().create_stemmer()\n",
        "\n",
        "# Melakukan stemming pada konten (content) dataset\n",
        "stemmed_content = stemmer.stem(raw_sample['content'])\n",
        "\n",
        "# Menampilkan konten setelah stemming\n",
        "print(stemmed_content)\n",
        "\n",
        "\n",
        "\n",
        "\n",
        "\n"
      ],
      "metadata": {
        "id": "7Ac_ehn-XHg3",
        "colab": {
          "base_uri": "https://localhost:8080/"
        },
        "outputId": "a06d5cc7-62f1-4439-a456-03d1089602e3"
      },
      "execution_count": 37,
      "outputs": [
        {
          "output_type": "stream",
          "name": "stdout",
          "text": [
            "Collecting Sastrawi\n",
            "  Downloading Sastrawi-1.0.1-py2.py3-none-any.whl (209 kB)\n",
            "\u001b[?25l     \u001b[90m━━━━━━━━━━━━━━━━━━━━━━━━━━━━━━━━━━━━━━━━\u001b[0m \u001b[32m0.0/209.7 kB\u001b[0m \u001b[31m?\u001b[0m eta \u001b[36m-:--:--\u001b[0m\r\u001b[2K     \u001b[91m━━━━━━━━━━━━━━━\u001b[0m\u001b[91m╸\u001b[0m\u001b[90m━━━━━━━━━━━━━━━━━━━━━━━━\u001b[0m \u001b[32m81.9/209.7 kB\u001b[0m \u001b[31m2.5 MB/s\u001b[0m eta \u001b[36m0:00:01\u001b[0m\r\u001b[2K     \u001b[90m━━━━━━━━━━━━━━━━━━━━━━━━━━━━━━━━━━━━━━━\u001b[0m \u001b[32m209.7/209.7 kB\u001b[0m \u001b[31m4.0 MB/s\u001b[0m eta \u001b[36m0:00:00\u001b[0m\n",
            "\u001b[?25hInstalling collected packages: Sastrawi\n",
            "Successfully installed Sastrawi-1.0.1\n",
            "jakarta cnn indonesia -- korea utara ancam akan ambil langkah balas kepada amerika serikat jika negara sebut tetap gelar latih militer sama korea selatan pyongyang juga tegas tidak akan mohon kepada washington untuk gelar suatu dialog jika amerika serikat tetap gelar latih militer sambil tetap terap sanksi kepada dprk dprk akan ambil tindak balas kepada as dengan cara kami sendiri dan mereka akan bertanggungjawab sepenuh atas konsekuensi lanjut demikian nyata resmi kantor berita korut kcna dprk adalah nama resmi korea utara yakni democratic people s republic of korea atau republik rakyat demokratik korea amerika serikat jadwal gelar latih militer sama korea selatan pada awal april informasi itu dapat reuters dasar nyata nasehat aman korea selatan kepada kantor berita yonhap belum pada 23 februari lalu amerika serikat nyata terap paket sanksi besar untuk tekan korut henti program nuklir dan misil presiden as donald trump bahkan ingat tentang fase dua yang ia sebut sangat tidak untung bagi dunia jika langkah belum tidak jalan efektif korut telah kecam sanksi pihak dari as sebut namun tegas masih buka untuk gelar dialog dengan as hal itu kata pyongyang akhir bulan lalu saat jumlah jabat korut unjung korsel dalam rangka helat olimpiade musim dingin di sisi lain gedung putih nyata bahwa segala bentuk bicara dengan korut harus ujung pada henti program nuklir negara itu korut balas nyata gedung putih itu pada sabtu 3 3 dengan ulang nyata bahwa mereka tolak segala prasyarat untuk duduk sama as juru bicara menteri luar negeri korut seperti kutip kcna kata korut tidak mohon untuk dialog dengan as serta tak akan hapus opsi militer mereka apakah damai yang kami dan seluruh dunia ingin capai di semenanjung korea atau buah situasi yang tidak ingin kembang dalam lingkar setan upa konfrontasi sepenuh gantung pada sikap as kata juru bicara kemlu korut di tengah panas hubung korut dan as pihak korsel rencana kirim utus khusus ke korut bagai respons hadap undang dari pimpin tinggi korut kim jong un hal itu sampai presiden korsel moon jae-in kepada trump lewat sambung telepon pada kamis lalu baik hubung dua korea tak lepas dari selenggara olimpiade musim dingin di pyeongchang korsel bulan lalu yang turut hadir oleh korut wis\n"
          ]
        }
      ]
    },
    {
      "cell_type": "markdown",
      "source": [
        "menyimpan dataset ke bentuk csv setelah proses preprocessing"
      ],
      "metadata": {
        "id": "5Q_L44ZdU_fu"
      }
    },
    {
      "cell_type": "code",
      "source": [
        "raw_sample = [\n",
        "    {\n",
        "    'date': '2018-03-04 01:09:00',\n",
        "    'title': 'Korut Ancam Ambil Langkah Tegas Jika AS Gelar Latihan Militer',\n",
        "    'content': 'Jakarta, CNN Indonesia -- Korea Utara mengancam akan mengambil langkah balasan kepada Amerika Serikat jika negara tersebut tetap menggelar latihan militer bersama Korea Selatan. Pyongyang juga menegaskan tidak akan memohon-mohon kepada Washington untuk menggelar suatu dialog. \"Jika Amerika Serikat tetap menggelar latihan militer sambil tetap menerapkan sanksi kepada DPRK, DPRK akan mengambil tindakan balasan kepada AS dengan cara kami sendiri dan mereka akan bertanggungjawab sepenuhnya atas konsekuensi-konsekuensi selanjutnya,\" demikian pernyataan resmi Kantor Berita Korut, KCNA. DPRK adalah nama resmi Korea Utara, yakni Democratic People\\'s Republic of Korea atau Republik Rakyat Demokratik Korea. Amerika Serikat dijadwalkan menggelar latihan militer bersama Korea Selatan pada awal April. Informasi itu didapat Reuters berdasarkan pernyataan penasehat keamanan Korea Selatan kepada Kantor Berita Yonhap. Sebelumnya, pada 23 Februari lalu, Amerika Serikat menyatakan menerapkan paket sanksi terbesar untuk menekan Korut menghentikan program nuklir dan misilnya. Presiden AS Donald Trump bahkan mengingatkan tentang \\'fase kedua\\' yang ia sebut\\xa0\\'sangat tidak menguntungkan bagi dunia\\' jika langkah-langkah sebelumnya\\xa0tidak berjalan efektif. Korut telah mengecam sanksi sepihak dari AS tersebut, namun menegaskan masih terbuka untuk menggelar dialog dengan AS. Hal itu dikatakan Pyongyang akhir bulan lalu saat sejumlah pejabat Korut mengunjungi Korsel dalam rangka perhelatan Olimpiade musim dingin. Di sisi lain, Gedung Putih menyatakan bahwa segala bentuk pembicaraan dengan Korut harus berujung pada penghentian program nuklir negara itu. Korut membalas pernyataan Gedung Putih itu pada Sabtu (3/3) dengan mengulangi pernyataan bahwa mereka menolak segala prasyarat untuk duduk bersama AS. Juru bicara Kementerian Luar Negeri Korut seperti dikutip KCNA, mengatakan Korut tidak memohon untuk berdialog dengan AS serta tak akan menghapus opsi militer mereka. \"Apakah perdamaian yang kami dan seluruh dunia inginkan tercapai di Semenanjung Korea, atau sebuah situasi yang tidak diinginkan berkembang dalam lingkaran setan berupa konfrontasi, sepenuhnya bergantung pada sikap AS,\" kata juru bicara Kemlu Korut. Di tengah memanasnya hubungan Korut dan AS, pihak Korsel berencana mengirim utusan khusus ke Korut sebagai respons terhadap undangan dari Pemimpin Tertinggi Korut Kim Jong Un. Hal itu disampaikan Presiden Korsel Moon Jae-in kepada Trump lewat sambungan telepon pada Kamis lalu. Membaiknya\\xa0hubungan dua Korea tak lepas dari penyelenggaraan Olimpiade musim dingin di Pyeongchang, Korsel, bulan lalu yang turut dihadiri oleh Korut. (wis)'\n",
        "}\n",
        "]\n",
        "# Membuat DataFrame dari dataset yang telah diproses\n",
        "data = pd.DataFrame(raw_sample)\n",
        "\n",
        "# Menyimpan DataFrame ke dalam file CSV\n",
        "data.to_csv('dataset_preprocessing.csv', index=False)\n",
        "\n",
        "print(\"Dataset yang telah diproses telah disimpan dalam file CSV.\")"
      ],
      "metadata": {
        "colab": {
          "base_uri": "https://localhost:8080/"
        },
        "id": "FAVD97dfdtnr",
        "outputId": "c33a586f-0d9b-4f62-db97-e9e118c47860"
      },
      "execution_count": 38,
      "outputs": [
        {
          "output_type": "stream",
          "name": "stdout",
          "text": [
            "Dataset yang telah diproses telah disimpan dalam file CSV.\n"
          ]
        }
      ]
    }
  ]
}